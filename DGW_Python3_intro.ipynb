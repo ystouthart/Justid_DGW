{
 "cells": [
  {
   "cell_type": "markdown",
   "metadata": {},
   "source": [
    "# DGW module"
   ]
  },
  {
   "cell_type": "markdown",
   "metadata": {},
   "source": [
    "<img src=\"https://www.binnenlandsbestuur.nl/Uploads/2018/2/logo-justid.png\" width=400 height=200/>"
   ]
  },
  {
   "cell_type": "markdown",
   "metadata": {},
   "source": [
    "DGW intro voor Data science\n",
    "\n",
    "In deze intro gaan we proeven aan het geen wat data science heet. In deze module gaan we kennis maken met Python\n",
    "\n",
    "\n",
    "Dit programma waar in je werkt heet een Jupyter notebook. De code is voor geprogrammeerd en kan je aanroepen door op de uitvoeren knop (playknop) te klikken boven in het menu of toetscombinatie SHIFT+ENTER"
   ]
  },
  {
   "cell_type": "markdown",
   "metadata": {},
   "source": [
    "### Een hele, hele kleine overview van Python\n"
   ]
  },
  {
   "cell_type": "markdown",
   "metadata": {},
   "source": [
    "Python is een makkelijke programeertaal om te leren om dat het vrij menselijk te lezen is. Python is een programmeertaal die begin jaren 90 ontworpen en ontwikkeld werd door de Nederlander Guido van Rossum, destijds verbonden aan het Centrum voor Wiskunde en Informatica in Amsterdam.\n",
    "<img src=\"https://logodownload.org/wp-content/uploads/2019/10/python-logo-0.png\" width=400 height=200/>"
   ]
  },
  {
   "cell_type": "markdown",
   "metadata": {},
   "source": [
    "Om te oefenen gaan we onze eerste tekst printen, dat doen we door de ingebouwde print statement van Python. Daarna gaan we variabelen aanwijzen en aanpassen!"
   ]
  },
  {
   "cell_type": "code",
   "execution_count": null,
   "metadata": {},
   "outputs": [],
   "source": [
    "print('Hello world')"
   ]
  },
  {
   "cell_type": "markdown",
   "metadata": {},
   "source": [
    "Variabelen aanwijzen doen we in Python met de = teken. Hieronder wijzen we het nummer (of integers zoals we dat noemen) aan de letter a."
   ]
  },
  {
   "cell_type": "code",
   "execution_count": null,
   "metadata": {},
   "outputs": [],
   "source": [
    "a = 3"
   ]
  },
  {
   "cell_type": "markdown",
   "metadata": {},
   "source": [
    "Een integer is een datatype. Net als andere programmeer talen definieert Python verschillende datatypen. Denk hierbij aan: "
   ]
  },
  {
   "cell_type": "code",
   "execution_count": null,
   "metadata": {},
   "outputs": [],
   "source": [
    "strings = \"een willekeurige volgorde van karakters(nummers en cijfers), te herkennen aan de quotes\" # een combinatie van cijfers en letters aangegeven door \" \" teknes\n",
    "integers= 1 # cijfers\n",
    "floats = 0.4 #puntkomma's \n",
    "lijst = [\"een verzamleing\", 4,5, 5, \"van verschillende soorten\", \"datatypen\"] # een lijst is een verzameling van alles, plaatjes, muziek of andere datatypes zoals strings en intergers en zelfs lijsten in een lijst\n",
    "boolean = True # of False"
   ]
  },
  {
   "cell_type": "markdown",
   "metadata": {},
   "source": [
    "Python overschrijft een variabele waneer deze al een eerder moment is aangemaakt. Hierboven hebben a = 3 aangemaakt, wat gebeurt er als we deze overschrijven zoals we hieronder doen? Druk op uitvoeren om de uitkomst te zien."
   ]
  },
  {
   "cell_type": "code",
   "execution_count": null,
   "metadata": {},
   "outputs": [],
   "source": [
    "a = a + 2\n",
    "print(a) #wat is de uitkomst van a? Klik nog eens op play om de magie van overschrijven te aanschouwen"
   ]
  },
  {
   "cell_type": "markdown",
   "metadata": {},
   "source": [
    "Python is flexibel we kunnen iedere keer een variabel overschrijven/aanpassen Hieronder overschrijven we de variable a door de string \"Justid!\". "
   ]
  },
  {
   "cell_type": "code",
   "execution_count": null,
   "metadata": {},
   "outputs": [],
   "source": [
    "a = \"Justid!\"\n",
    "print('I Love ' + a)"
   ]
  },
  {
   "cell_type": "markdown",
   "metadata": {},
   "source": [
    "Omdat onderstaande een string is (aangeduid met \"\") kunnen we deze niet combineren met een integer."
   ]
  },
  {
   "cell_type": "code",
   "execution_count": null,
   "metadata": {},
   "outputs": [],
   "source": [
    "dit_gaat_fout = 5 + \"5\""
   ]
  },
  {
   "cell_type": "markdown",
   "metadata": {},
   "source": [
    "Wat gebeurt er als we 2 intergers bij elkaar optellen en zie wat er gebeurt als we 2 stings bij elkaar optellen"
   ]
  },
  {
   "cell_type": "code",
   "execution_count": null,
   "metadata": {},
   "outputs": [],
   "source": [
    "sum = 5+5\n",
    "concatination = \"5\" + \"5\"\n",
    "string_concatination = \"hallo\" + \"hallo\"\n",
    "\n",
    "print(sum)\n",
    "print(concatination)\n",
    "print(string_concatination)\n"
   ]
  },
  {
   "cell_type": "markdown",
   "metadata": {},
   "source": [
    "Wanneer je 2 strings bij elkaar optelt voegd Python ze samen. Zie een beter voorbeeld hierbeneden:"
   ]
  },
  {
   "cell_type": "code",
   "execution_count": null,
   "metadata": {},
   "outputs": [],
   "source": [
    "voorstel = \"Hallo mijn naam is \"\n",
    "naam = \"Piet\"\n",
    "\n",
    "print(voorstel + naam) # voer je naam in op de plek van Piet en druk op play"
   ]
  },
  {
   "cell_type": "markdown",
   "metadata": {},
   "source": [
    "In Python hebben we verschillende \"operators\" dit zijn de bekende +, -, : etc. Voor een goed overzicht bekijk deze pagina: https://www.w3schools.com/python/python_operators.asp  "
   ]
  },
  {
   "cell_type": "markdown",
   "metadata": {},
   "source": [
    "Waneer je er klaar voor bent kun je kijken naar wat complexere operators die je veelal zult tegen komen in conditional statements (denk aan if en else). Zo heb je de bekende  groter dan > en groter dan of gelijk aan >= maar je hebt ook gelijk aan == of kleiner dan <. Waneer je deze gebruikt krijg je een boolean terug: True or False"
   ]
  },
  {
   "cell_type": "code",
   "execution_count": null,
   "metadata": {},
   "outputs": [],
   "source": [
    "5 > 6"
   ]
  },
  {
   "cell_type": "code",
   "execution_count": null,
   "metadata": {},
   "outputs": [],
   "source": [
    "77==77"
   ]
  },
  {
   "cell_type": "markdown",
   "metadata": {},
   "source": [
    "Zie onderstaande voorbeeld: pas de 5.5 van variabel je_cijfer aan naar een lager cijfer en zie wat de uitkomst is:"
   ]
  },
  {
   "cell_type": "code",
   "execution_count": null,
   "metadata": {},
   "outputs": [],
   "source": [
    "je_cijfer = 5.5\n",
    "\n",
    "if je_cijfer >= 5.5:\n",
    "    print(\"Gefeliciteerd je bent geslaagd\")\n",
    "\n",
    "else:\n",
    "    print(\"Helaas je moet herkansen!\")"
   ]
  },
  {
   "cell_type": "markdown",
   "metadata": {},
   "source": [
    "### Functies \n"
   ]
  },
  {
   "cell_type": "markdown",
   "metadata": {},
   "source": [
    "Bovenstaande kunnen we ook mooi maken door hem in een functie te zetten. Zo kunnen we de functie aan roepen waar en waneer we maar willen. Python defineert een functie door: def de_naam_van_je_functie(): \n",
    "In de () kunnen we een variable zetten zodat we die kunnen gebruiken in de functie. In bovenstaande cel zou bijvoorbeeld cijfer een goeie variabel zijn om te geven aan de functie. "
   ]
  },
  {
   "cell_type": "code",
   "execution_count": null,
   "metadata": {},
   "outputs": [],
   "source": [
    "def geslaagd(cijfer): # we noemen de functie geslaagd en geven de functie een variabele, deze variabele heet binnen!!! (niet buiten) de functie cijfer.\n",
    "\n",
    "  if cijfer >= 5.5:\n",
    "    print(\"Gefeliciteerd je bent geslaagd\")\n",
    "    \n",
    "  else:\n",
    "    print(\"Helaas je moet herkansen!\")"
   ]
  },
  {
   "cell_type": "markdown",
   "metadata": {},
   "source": [
    "Hieronder hoeven we alleen de naam van de functie te geven en het cijfer die we willen invoeren:"
   ]
  },
  {
   "cell_type": "code",
   "execution_count": null,
   "metadata": {},
   "outputs": [],
   "source": [
    "geslaagd(5.5)"
   ]
  },
  {
   "cell_type": "markdown",
   "metadata": {},
   "source": [
    "### Loop"
   ]
  },
  {
   "cell_type": "markdown",
   "metadata": {},
   "source": [
    "Stel we hebben een klas met allemaal cijfers. Dan kunnen we voor iedere cijfer de functie aanroepen maar we kunnen ook een loop gebruiken. In Python hebben verschillende soorten loops maar de bekendste is de for loop. Met een for loop itereer je door \"iets\" heen. Dit kan een string zijn of, zoals in ons geval, een lijst met cijfers. Hieronder een voorbeeld van hoe Python door een lijst[1,2,3,4,5] heen itereert. \n",
    "\n",
    "Python werkt met indentatie en is heel spatie gevoelig. Omdat de print statement iets naar rechts staat (met 4 spaties). Ziet Python dit als onder deel van de loop. En zal het dus iere keer aanroepen.\n",
    "\n",
    "De i in dit geval is een manier om een variabel aan te wijzen en overschrijven. De eerste iteratie is i = 1, de tweede i = 2 etc. we kunnen i ook anders noemen als we willen. Zoals ik doe in de volgende cel."
   ]
  },
  {
   "cell_type": "code",
   "execution_count": null,
   "metadata": {},
   "outputs": [],
   "source": [
    "for i in [1,2,3,4,5]: \n",
    "    print(i)"
   ]
  },
  {
   "cell_type": "code",
   "execution_count": null,
   "metadata": {},
   "outputs": [],
   "source": [
    "cijfer_lijst = [4, 7, 8, 3, 2.5, 5.5]\n",
    "for cijfer in cijfer_lijst:\n",
    "    print(\"je cijfer is:\", cijfer)\n",
    "    geslaagd(cijfer)\n",
    "\n",
    "print(\"Bedankt allemaal\")"
   ]
  },
  {
   "cell_type": "markdown",
   "metadata": {},
   "source": [
    "Zie je hierboven waarom \"Bedankt allemaal\" maar 1 keer wordt geprint? Het staat buiten de loop."
   ]
  },
  {
   "cell_type": "markdown",
   "metadata": {},
   "source": [
    "## Basis statistiek"
   ]
  },
  {
   "cell_type": "markdown",
   "metadata": {},
   "source": [
    "In dit hoofstuk gaan we simpele statistiek verkennen door het gebruik van Python. Python komt met verschillende libraries die ons functies out of de box geven. Op die manier hoeven we niet het wiel opnieuw uit te vinden. Libraries importeren doen we door de ingebouwde import functie. Hieronder importeren we een bekende library die bekend staat om z'n wiskundige formules. Met as np noem ik hem voor de makkelijkheid even np"
   ]
  },
  {
   "cell_type": "code",
   "execution_count": null,
   "metadata": {},
   "outputs": [],
   "source": [
    " import numpy as np\n"
   ]
  },
  {
   "cell_type": "markdown",
   "metadata": {},
   "source": [
    "### Mean, Median, and Mode"
   ]
  },
  {
   "cell_type": "markdown",
   "metadata": {},
   "source": [
    "We maken een lijst aan en gaan kijken of we het gemiddelde, mediaan en modus kunnen vinden. Laten we onder een lijst met snelheden maken."
   ]
  },
  {
   "cell_type": "code",
   "execution_count": null,
   "metadata": {},
   "outputs": [],
   "source": [
    "speed = [99,86,87,88,111,86,103,87,94,78,77,85,86] "
   ]
  },
  {
   "cell_type": "markdown",
   "metadata": {},
   "source": [
    "We gebruiken de numpy library door np.(de functie die we willen gebruiken). Dus de documentatie van Numpy zegt bijvoorbeeld dat er een mean en modus functie is: https://numpy.org/doc/1.21/reference/generated/numpy.mean.html?highlight=mean. We geven de lijst aan de functie en printen de variabele x"
   ]
  },
  {
   "cell_type": "code",
   "execution_count": null,
   "metadata": {},
   "outputs": [],
   "source": [
    "x = np.mean(speed)\n",
    "\n",
    "print(\"de gemiddelde snelheid is\", x) "
   ]
  },
  {
   "cell_type": "markdown",
   "metadata": {},
   "source": [
    "De mediaan zijn de middelste getallen in de lijst. Als de lijst even is pakt de functie de helft"
   ]
  },
  {
   "cell_type": "code",
   "execution_count": null,
   "metadata": {},
   "outputs": [],
   "source": [
    "speed = [99,86,87,88,111,86,103,87,94,78,77,85,86] \n",
    "x = np.median(speed)\n",
    "\n",
    "print(\"de mediaan snelheid is\", x) \n",
    "\n",
    "speed = [99,86,87,88,86,103,87,94,78,77,85,86]\n",
    "x = np.median(speed)\n",
    "\n",
    "print(\"de mediaan snelheid is\", x) "
   ]
  },
  {
   "cell_type": "markdown",
   "metadata": {},
   "source": [
    "De numpy library heeft geen mode, daarvoor importeren we een andere library. De mode geeft het meestvoorkomende nummer weer. In het Nederlands beter bekend als modaal."
   ]
  },
  {
   "cell_type": "code",
   "execution_count": null,
   "metadata": {},
   "outputs": [],
   "source": [
    "import statistics \n",
    "\n",
    "speed = [99,86,87,88,111,86,103,87,94,78,77,85,86]\n",
    "\n",
    "x = statistics.mode(speed)\n",
    "\n",
    "print(\"de mode is\", x)"
   ]
  },
  {
   "cell_type": "code",
   "execution_count": null,
   "metadata": {},
   "outputs": [],
   "source": []
  }
 ],
 "metadata": {
  "kernelspec": {
   "display_name": "Python 3 (ipykernel)",
   "language": "python",
   "name": "python3"
  },
  "language_info": {
   "codemirror_mode": {
    "name": "ipython",
    "version": 3
   },
   "file_extension": ".py",
   "mimetype": "text/x-python",
   "name": "python",
   "nbconvert_exporter": "python",
   "pygments_lexer": "ipython3",
   "version": "3.8.10"
  }
 },
 "nbformat": 4,
 "nbformat_minor": 2
}