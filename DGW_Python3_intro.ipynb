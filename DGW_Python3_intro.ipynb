{
 "cells": [
  {
   "cell_type": "markdown",
   "metadata": {},
   "source": [
    "# DGW module"
   ]
  },
  {
   "cell_type": "markdown",
   "metadata": {},
   "source": [
    "\n",
    "<img src=\"https://www.binnenlandsbestuur.nl/Uploads/2018/2/logo-justid.png\" width=400 height=200/>"
   ]
  },
  {
   "cell_type": "markdown",
   "metadata": {},
   "source": [
    "DGW intro voor Data science\n",
    "\n",
    "In deze cursus gaan we proeven aan het geen wat data science heet. Om te beginnen met programmeren in Python.\n",
    "\n",
    "\n",
    "Het programma waar in je werkt heet een Jupyter notebook. De code is voor geprogrammeerd en kan je aanroepen door je cursor in de cel te zetten en op de uitvoeren knop (playknop) te klikken boven in het menu of toetscombinatie SHIFT+ENTER. Je hoeft dus niet direct zelf iets te programmeren."
   ]
  },
  {
   "cell_type": "markdown",
   "metadata": {},
   "source": [
    "### Een hele, hele kleine overview van Python\n"
   ]
  },
  {
   "cell_type": "markdown",
   "metadata": {},
   "source": [
    "Python is een makkelijke taal om te leren. Python is begin jaren 90 ontworpen en ontwikkeld door de Nederlander Guido van Rossum, destijds verbonden aan het Centrum voor Wiskunde en Informatica in Amsterdam.\n",
    "\n",
    "<img src=\"https://logodownload.org/wp-content/uploads/2019/10/python-logo-0.png\" width=400 height=200/>"
   ]
  },
  {
   "cell_type": "markdown",
   "metadata": {},
   "source": [
    "Om te oefenen gaan we onze eerste tekst printen, dat doen we door de ingebouwde print statement van Python. Daarna gaan we variabelen aanwijzen en aanpassen! Zet je cursor in de cel hier beneden en klik op de playknop. De output komt onder de cel."
   ]
  },
  {
   "cell_type": "code",
   "execution_count": null,
   "metadata": {},
   "outputs": [],
   "source": [
    "print('Hello world')"
   ]
  },
  {
   "cell_type": "markdown",
   "metadata": {},
   "source": [
    "Variabelen aanwijzen doen we in Python met het = teken. Hieronder wijzen we het nummer (of integers zoals Python dat noemt) aan de letter a."
   ]
  },
  {
   "cell_type": "code",
   "execution_count": null,
   "metadata": {},
   "outputs": [],
   "source": [
    "a = 3"
   ]
  },
  {
   "cell_type": "markdown",
   "metadata": {},
   "source": [
    "Een integer is een datatype. Net als andere programmeertalen definieert Python verschillende datatypen. Denk hierbij aan:"
   ]
  },
  {
   "cell_type": "code",
   "execution_count": null,
   "metadata": {},
   "outputs": [],
   "source": [
    "strings = \"een willekeurige volgorde van karakters(nummers en cijfers), te herkennen aan de quotes\" # een combinatie van cijfers en letters aangegeven door \" \" teknes\n",
    "integers= 1 # cijfers\n",
    "floats = 0.4 #puntkomma's \n",
    "lijst = [\"een verzamleing\", 4,5, 5, \"van verschillende soorten\", \"datatypen\"] # een lijst is een verzameling van alles, plaatjes, muziek of andere datatypes zoals strings en intergers en zelfs lijsten in een lijst\n",
    "boolean = True # of False"
   ]
  },
  {
   "cell_type": "markdown",
   "metadata": {},
   "source": [
    "Python overschrijft een variabele wanneer deze al een eerder moment is aangemaakt. Hierboven hebben a = 3 aangemaakt, wat gebeurt er als we deze overschrijven zoals we hieronder doen? Druk op uitvoeren om de uitkomst te zien."
   ]
  },
  {
   "cell_type": "code",
   "execution_count": null,
   "metadata": {},
   "outputs": [],
   "source": [
    "a = a + 2\n",
    "print(a) #wat is de uitkomst van a? Klik nog eens op play om de magie van overschrijven te aanschouwen"
   ]
  },
  {
   "cell_type": "markdown",
   "metadata": {},
   "source": [
    "Python is flexibel we kunnen iedere keer een variabel overschrijven/aanpassen. Hieronder overschrijven we nogmaals variabel a door de string \"Justid!\"."
   ]
  },
  {
   "cell_type": "code",
   "execution_count": null,
   "metadata": {},
   "outputs": [],
   "source": [
    "a = \"Justid!\"\n",
    "print('I Love ' + a)"
   ]
  },
  {
   "cell_type": "markdown",
   "metadata": {},
   "source": [
    "Omdat onderstaande 5 een string is (aangeduid met \"\") kunnen we deze niet combineren met de integer 5."
   ]
  },
  {
   "cell_type": "code",
   "execution_count": null,
   "metadata": {},
   "outputs": [],
   "source": [
    "dit_gaat_fout = 5 + \"5\""
   ]
  },
  {
   "cell_type": "markdown",
   "metadata": {},
   "source": [
    "Wat gebeurt er als we 2 intergers bij elkaar optellen en zie wat er gebeurt als we 2 strings bij elkaar optellen"
   ]
  },
  {
   "cell_type": "code",
   "execution_count": null,
   "metadata": {},
   "outputs": [],
   "source": [
    "sum = 5+5\n",
    "concatination = \"5\" + \"5\"\n",
    "string_concatination = \"hallo\" + \"hallo\"\n",
    "\n",
    "print(sum)\n",
    "print(concatination)\n",
    "print(string_concatination)\n"
   ]
  },
  {
   "cell_type": "markdown",
   "metadata": {},
   "source": [
    "Wanneer je twee strings bij elkaar optelt door middel van het plusteken voegt Python ze samen. Zie een beter voorbeeld hierbeneden:"
   ]
  },
  {
   "cell_type": "code",
   "execution_count": null,
   "metadata": {},
   "outputs": [],
   "source": [
    "voorstel = \"Hallo mijn naam is \"\n",
    "naam = \"Piet\"\n",
    "\n",
    "print(voorstel + naam) # voer je naam in op de plek van Piet en druk op play"
   ]
  },
  {
   "cell_type": "markdown",
   "metadata": {},
   "source": [
    "In Python hebben we verschillende \"operators\" dit zijn de bekende +, -, : etc. Voor een goed overzicht bekijk deze pagina: https://www.w3schools.com/python/python_operators.asp  "
   ]
  },
  {
   "cell_type": "markdown",
   "metadata": {},
   "source": [
    "Waneer je er klaar voor bent kun je kijken naar wat complexere operators die je veelal zult tegen komen in conditional statements (denk aan if en else). Zo heb je de bekende groter dan > en groter dan of gelijk aan >= maar je hebt ook gelijk aan == of kleiner dan <. Waneer je deze gebruikt krijg je een boolean terug: True or False"
   ]
  },
  {
   "cell_type": "code",
   "execution_count": null,
   "metadata": {},
   "outputs": [],
   "source": [
    "5 > 6"
   ]
  },
  {
   "cell_type": "code",
   "execution_count": null,
   "metadata": {},
   "outputs": [],
   "source": [
    "77==77"
   ]
  },
  {
   "cell_type": "markdown",
   "metadata": {},
   "source": [
    "Zie onderstaande voorbeeld: pas de 5.5 van variabel je_cijfer aan naar een lager cijfer en zie wat de uitkomst is:"
   ]
  },
  {
   "cell_type": "code",
   "execution_count": null,
   "metadata": {},
   "outputs": [],
   "source": [
    "je_cijfer = 5.5\n",
    "\n",
    "if je_cijfer >= 5.5:\n",
    "    print(\"Gefeliciteerd je bent geslaagd\")\n",
    "\n",
    "else:\n",
    "    print(\"Helaas je moet herkansen!\")"
   ]
  },
  {
   "cell_type": "markdown",
   "metadata": {},
   "source": [
    "### Functies \n"
   ]
  },
  {
   "cell_type": "markdown",
   "metadata": {},
   "source": [
    "Bovenstaande kunnen we ook mooi maken door hem in een functie te zetten. Zo kunnen we de functie aan roepen waar en wanneer we maar willen. Python definieert een functie door: def de_naam_van_je_functie():\n",
    "In de () kunnen we een variable zetten zodat we die kunnen gebruiken in de functie. In bovenstaande cel zou bijvoorbeeld cijfer een goeie variabel zijn om te geven aan de functie. "
   ]
  },
  {
   "cell_type": "code",
   "execution_count": null,
   "metadata": {},
   "outputs": [],
   "source": [
    "def geslaagd(cijfer): # we noemen de functie geslaagd en geven de functie een variabele, deze variabele heet binnen!!! (niet buiten) de functie cijfer.\n",
    "\n",
    "  if cijfer >= 5.5:\n",
    "    print(\"Gefeliciteerd je bent geslaagd\")\n",
    "    \n",
    "  else:\n",
    "    print(\"Helaas je moet herkansen!\")"
   ]
  },
  {
   "cell_type": "markdown",
   "metadata": {},
   "source": [
    "Hieronder hoeven we alleen de naam van de functie te geven en het cijfer die we willen invoeren:"
   ]
  },
  {
   "cell_type": "code",
   "execution_count": null,
   "metadata": {},
   "outputs": [],
   "source": [
    "geslaagd(5.5)"
   ]
  },
  {
   "cell_type": "markdown",
   "metadata": {},
   "source": [
    "### Loop"
   ]
  },
  {
   "cell_type": "markdown",
   "metadata": {},
   "source": [
    "Stel we hebben een klas met kinderen die allemaal hun cijfers willen. Dan kunnen we voor iedere cijfer de functie aanroepen, maar we kunnen ook een loop gebruiken. In Python hebben verschillende soorten loops, maar de bekendste is de for loop. Met een for loop itereer je door \"iets\" heen. Dit kan een string zijn of, zoals in ons geval, een lijst met cijfers. Hieronder een voorbeeld van hoe Python door een lijst[1,2,3,4,5] heen itereert.\n",
    "\n",
    "Python werkt met indentatie en is heel spatie gevoelig. Omdat de print statement iets naar rechts staat (met 4 spaties). Ziet Python dit als onderdeel van de loop en zal het dus iedere keer aanroepen.\n",
    "\n",
    "De i in dit geval is een manier om een variabel aan te wijzen en overschrijven. De eerste iteratie is i = 1, de tweede i = 2 etc. we kunnen i ook anders noemen als we willen. Zoals ik doe in de volgende cel."
   ]
  },
  {
   "cell_type": "code",
   "execution_count": null,
   "metadata": {},
   "outputs": [],
   "source": [
    "for i in [1,2,3,4,5]: \n",
    "    print(i)"
   ]
  },
  {
   "cell_type": "code",
   "execution_count": null,
   "metadata": {},
   "outputs": [],
   "source": [
    "cijfer_lijst = [4, 7, 8, 3, 2.5, 5.5]\n",
    "for cijfer in cijfer_lijst:\n",
    "    print(\"je cijfer is:\", cijfer)\n",
    "    geslaagd(cijfer)\n",
    "\n",
    "print(\"Bedankt allemaal\")"
   ]
  },
  {
   "cell_type": "markdown",
   "metadata": {},
   "source": [
    "Zie je hierboven waarom \"Bedankt allemaal\" maar 1 keer wordt geprint? Het staat buiten de loop."
   ]
  },
  {
   "cell_type": "markdown",
   "metadata": {},
   "source": [
    "## Basis statistiek"
   ]
  },
  {
   "cell_type": "markdown",
   "metadata": {},
   "source": [
    "In dit hoofdstuk gaan we simpele statistiek verkennen door het gebruik van Python. Python komt met verschillende libraries die ons functies out of de box geven. Op die manier hoeven we niet het wiel opnieuw uit te vinden. Libraries importeren doen we door de ingebouwde import functie. Hieronder importeren we een bekende library die bekend staat om z'n wiskundige formules. Met as np noem ik hem voor de makkelijkheid even np"
   ]
  },
  {
   "cell_type": "code",
   "execution_count": null,
   "metadata": {},
   "outputs": [],
   "source": [
    " import numpy as np\n"
   ]
  },
  {
   "cell_type": "markdown",
   "metadata": {},
   "source": [
    "### Mean, Median, and Mode"
   ]
  },
  {
   "cell_type": "markdown",
   "metadata": {},
   "source": [
    "We maken een lijst aan en gaan kijken of we het gemiddelde, mediaan en modus kunnen vinden. Laten we onder een lijst met snelheden maken."
   ]
  },
  {
   "cell_type": "code",
   "execution_count": null,
   "metadata": {},
   "outputs": [],
   "source": [
    "speed = [99,86,87,88,111,86,103,87,94,78,77,85,86] "
   ]
  },
  {
   "cell_type": "markdown",
   "metadata": {},
   "source": [
    "We gebruiken de numpy library door np.(de functie die we willen gebruiken). Dus de documentatie van Numpy zegt bijvoorbeeld dat er een mean en modus functie is: https://numpy.org/doc/1.21/reference/generated/numpy.mean.html?highlight=mean. We geven de lijst aan de functie en printen de variabele x"
   ]
  },
  {
   "cell_type": "code",
   "execution_count": null,
   "metadata": {},
   "outputs": [],
   "source": [
    "x = np.mean(speed)\n",
    "\n",
    "print(\"de gemiddelde snelheid is\", x) "
   ]
  },
  {
   "cell_type": "markdown",
   "metadata": {},
   "source": [
    "De mediaan zijn de middelste getallen in de lijst. Als de lijst even is pakt de functie de helft"
   ]
  },
  {
   "cell_type": "code",
   "execution_count": null,
   "metadata": {},
   "outputs": [],
   "source": [
    "speed = [99,86,87,88,111,86,103,87,94,78,77,85,86] \n",
    "x = np.median(speed)\n",
    "\n",
    "print(\"de mediaan snelheid is\", x) \n",
    "\n",
    "speed = [99,86,87,88,86,103,87,94,78,77,85,86]\n",
    "x = np.median(speed)\n",
    "\n",
    "print(\"de mediaan snelheid is\", x) "
   ]
  },
  {
   "cell_type": "markdown",
   "metadata": {},
   "source": [
    "De numpy library heeft geen mode, daarvoor importeren we een andere library. De mode geeft het meestvoorkomende nummer weer. In het Nederlands beter bekend als modaal."
   ]
  },
  {
   "cell_type": "code",
   "execution_count": null,
   "metadata": {},
   "outputs": [],
   "source": [
    "import statistics \n",
    "\n",
    "speed = [99,86,87,88,111,86,103,87,94,78,77,85,86]\n",
    "\n",
    "x = statistics.mode(speed)\n",
    "\n",
    "print(\"de mode is\", x)"
   ]
  },
  {
   "cell_type": "markdown",
   "metadata": {},
   "source": [
    "## Titanic dataset"
   ]
  },
  {
   "cell_type": "markdown",
   "metadata": {},
   "source": [
    "In het volgende hoofstuk kijken we naar *beslissingsbomen*, ons type classificatiemodel dat dieper ingaat op het gebied van machine learning. In de oefening van vandaag gebruiken we `scikit-learn'.\n",
    "\n",
    "\n",
    "***\n",
    "![alt text](https://upload.wikimedia.org/wikipedia/commons/thumb/d/db/Titanic-Cobh-Harbour-1912.JPG/330px-Titanic-Cobh-Harbour-1912.JPG)\n",
    "    \n",
    "We illustreren hoe beslissingsbomen werken met behulp van de Titanic-survivaldataset die beschikbaar is op [Kaggle](https://www.kaggle.com/c/titanic/data). We zullen kijken naar een verscheidenheid aan variabelen om ons te helpen voorspellen of een bepaalde passagier op de Titanic kon overleven. Er is veel te vinden op internet (inclusief [hier](https://triangleinequality.wordpress.com/2013/09/08/basic-feature-engineering-with-the-titanic-data/)) over deze dataset, omdat het populair is onder degenen die net op de hoogte zijn van classificatiemodellen voor machine learning.\n",
    "***\n",
    "\n"
   ]
  },
  {
   "cell_type": "markdown",
   "metadata": {},
   "source": [
    "### Data Dictionary\n",
    "\n",
    "|Variable|Definition|Key|\n",
    "| --- | --- |:---|\n",
    "| survival | Survival | 0 = No, 1 = Yes |\n",
    "| pclass\t| Ticket class\t| 1 = 1st, 2 = 2nd, 3 = 3rd |\n",
    "| sex\t| Sex | | \t\n",
    "| Age | Age in years | | \t\n",
    "| sibsp\t| # of siblings / spouses aboard the Titanic | \t| \n",
    "| parch\t| # of parents / children aboard the Titanic | | \n",
    "| ticket | Ticket number | | \n",
    "| fare\t| Passenger fare | \t| \n",
    "| cabin\t| Cabin number| \t| \n",
    "| embarked | Port of Embarkation\t| C = Cherbourg (France), Q = Queenstown (Ireland), S = Southampton (England) | "
   ]
  },
  {
   "cell_type": "code",
   "execution_count": null,
   "metadata": {},
   "outputs": [],
   "source": [
    "# %pip install --user numpy\n",
    "# %pip install  pandas\n",
    "# %pip install --upgrade pip --user\n",
    "# %pip install wheel --user\n",
    "# %pip install sklearn --user\n",
    "# %pip install pandas --user\n",
    "# %pip install matplotlib --user\n",
    "# %pip install seaborn --user\n"
   ]
  },
  {
   "cell_type": "code",
   "execution_count": null,
   "metadata": {},
   "outputs": [],
   "source": [
    "import numpy as np\n",
    "import pandas as pd\n",
    "import warnings\n",
    "import matplotlib.pyplot as plt\n",
    "from sklearn.tree import DecisionTreeClassifier\n",
    "from sklearn.linear_model import LogisticRegression\n",
    "from sklearn.metrics import accuracy_score, recall_score, precision_score, confusion_matrix\n",
    "from sklearn.model_selection import KFold, cross_val_score\n",
    "import seaborn as sns\n",
    "\n",
    "%matplotlib inline\n",
    "warnings.filterwarnings(\"ignore\")"
   ]
  },
  {
   "cell_type": "code",
   "execution_count": null,
   "metadata": {},
   "outputs": [],
   "source": [
    "df = pd.read_csv('https://grantmlong.com/data/titanic.csv')"
   ]
  },
  {
   "cell_type": "code",
   "execution_count": null,
   "metadata": {},
   "outputs": [],
   "source": [
    "df.info()"
   ]
  },
  {
   "cell_type": "markdown",
   "metadata": {},
   "source": [
    "## Exploreren van de data"
   ]
  },
  {
   "cell_type": "code",
   "execution_count": null,
   "metadata": {},
   "outputs": [],
   "source": [
    "df.describe()"
   ]
  },
  {
   "cell_type": "code",
   "execution_count": null,
   "metadata": {},
   "outputs": [],
   "source": [
    "df.describe(include=['O'])"
   ]
  },
  {
   "cell_type": "code",
   "execution_count": null,
   "metadata": {},
   "outputs": [],
   "source": [
    "pd.isnull(df).sum()"
   ]
  },
  {
   "cell_type": "markdown",
   "metadata": {},
   "source": [
    "\n",
    "\n",
    "Over de data\n",
    "\n",
    "    Het aantal passagiers zijn 891 van 40% of the actual number of passengers on board the Titanic (2,224).\n",
    "    We missen ongeveer 20% data in Age. We doen de aanname dat leeftijd waarschijnlijk belangrijk zijn\n",
    "    We missen ongeveer 80% in de Cabin column en misschien droppen we deze column.\n",
    "    Er zijn zijn 2 missende data in Embarked\n",
    "    Ticket laten we misschien vallen aangezien we over 200 dubbele hebben en Ticket informatiie is waarschijnlijk niet hoog gecoralleerd aan survival\n",
    "    Name niet meteen gerelated aan survival dus we kunnen het laten vallen.\n",
    "\n"
   ]
  },
  {
   "cell_type": "code",
   "execution_count": null,
   "metadata": {},
   "outputs": [],
   "source": [
    "\n",
    "\n",
    "Aannames\n",
    "\n",
    "\n",
    "Om nauwkeurig te kunnen voorspellen, moeten we kenmerken onderzoeken die correleren met Survival. Aangenomen wordt dat:\n",
    "\n",
    "    SEX: Vrouwen (geslacht = vrouw) hebben meer kans om te overleven.\n",
    "    SibSp/Parch: Mensen die alleen reizen, hebben meer kans om te overleven.\n",
    "    Age: Jonge kinderen hebben meer kans om te overleven.\n",
    "    Pclass: De passagiers uit de hogere klasse (Pclass=1) hebben meer kans om te overleven.\n"
   ]
  },
  {
   "cell_type": "code",
   "execution_count": null,
   "metadata": {},
   "outputs": [],
   "source": [
    "import  seaborn as sns\n",
    "g = sns.FacetGrid(df, col='Survived',row='Pclass')\n",
    "g.map(plt.hist, 'Age', bins=30)"
   ]
  },
  {
   "cell_type": "code",
   "execution_count": null,
   "metadata": {},
   "outputs": [],
   "source": [
    "sns.barplot(x=\"Pclass\", y=\"Survived\",data=df,palette='rainbow')\n",
    "#print percentages of classes that survive\n",
    "print(\"Percentage of Class 1 who survived:\", df[\"Survived\"][df[\"Pclass\"] == 1].value_counts(normalize = True)[1]*100)\n",
    "print(\"Percentage of Class 2 who survived:\", df[\"Survived\"][df[\"Pclass\"] == 2].value_counts(normalize = True)[1]*100)\n",
    "print(\"Percentage of Class 3 who survived:\", df[\"Survived\"][df[\"Pclass\"] == 3].value_counts(normalize = True)[1]*100)"
   ]
  },
  {
   "cell_type": "code",
   "execution_count": null,
   "metadata": {},
   "outputs": [],
   "source": [
    "\n",
    "\n",
    "sns.countplot(x='Survived',hue='Sex',data=df,palette='rainbow')\n",
    "#print percentages of females vs. males that survive\n",
    "print(\"Percentage of females who survived:\", df[\"Survived\"][df[\"Sex\"] == 'female'].value_counts(normalize = True)[1]*100)\n",
    "\n",
    "print(\"Percentage of males who survived:\", df[\"Survived\"][df[\"Sex\"] == 'male'].value_counts(normalize = True)[1]*100)\n",
    "\n"
   ]
  },
  {
   "cell_type": "code",
   "execution_count": null,
   "metadata": {},
   "outputs": [],
   "source": [
    "df[['SibSp','Survived']].groupby(by='SibSp').mean().sort_values(by='Survived',ascending=False)"
   ]
  },
  {
   "cell_type": "markdown",
   "metadata": {},
   "source": [
    "(SibSp=1) hebben de meeste kans om te overleven (53.6%)\n"
   ]
  },
  {
   "cell_type": "code",
   "execution_count": null,
   "metadata": {},
   "outputs": [],
   "source": [
    "df[['Parch','Survived']].groupby(by='Parch').mean().sort_values(by='Survived',ascending=False)"
   ]
  },
  {
   "cell_type": "markdown",
   "metadata": {},
   "source": [
    "\n",
    "(Parch=3) hebben de meeste kans om te overleven (60%)\n",
    "\n",
    "Reactie op eerdere veronderstellingen\n",
    "\n",
    "    Sex: Vrouwen (geslacht = vrouw) hebben meer kans om te overleven.\n",
    "\n",
    "    Zeer goed mogelijk\n",
    "\n",
    "    SibSp/Parch: mensen die alleen reizen, hebben meer kans om te overleven\n",
    "\n",
    "    Niet echt. (SibSp=1) & (Parch=3) hebben de meeste kans om te overleven\n",
    "\n",
    "    Age: Jonge kinderen hebben meer kans om te overleven.\n",
    "\n",
    "    Mogelijk. Jonge kinderen in klas 1 en 2 zijn zelden dood\n",
    "\n",
    "    Pclass: De passagiers uit de hogere klasse (Pclass=1) hebben meer kans om te overleven\n",
    "\n",
    "    Het aandeel overlevenden in klasse 1 & 2 is groter dan dat van klasse 3\n",
    "\n",
    "Geslacht, Pclass, Age-kenmerken moeten worden gecorreleerd aan overlevingen.\n"
   ]
  },
  {
   "cell_type": "markdown",
   "metadata": {},
   "source": [
    "## Gegevens opschonen\n",
    "\n",
    "    Ontbrekende waarde zou worden ingevuld door toerekening\n",
    "    De kolommen Sex en Embarked worden omgezet in dummies-variabelen\n",
    "    Naam kan worden omgezet in een nieuwe functie door hun titels te extraheren\n",
    "    Ticket en cabine worden gedropt\n",
    "\n",
    "### Leeftijdsfunctie\n",
    "\n",
    "ontbrekende waarden worden opgevuld door de mediaan van Leeftijd, gegroepeerd op verschillende klassen"
   ]
  },
  {
   "cell_type": "code",
   "execution_count": null,
   "metadata": {},
   "outputs": [],
   "source": [
    "# look at the median of Age group by classes\n",
    "df.groupby('Pclass')['Age'].describe()"
   ]
  },
  {
   "cell_type": "code",
   "execution_count": null,
   "metadata": {},
   "outputs": [],
   "source": [
    "# set up a function to impute median of Age based on individual's Pclass\n",
    "def impute_age(cols):\n",
    "    Age = cols[0]\n",
    "    Pclass = cols[1]\n",
    "    \n",
    "    if pd.isnull(Age):\n",
    "        \n",
    "        if Pclass == 1:\n",
    "            return 37\n",
    "        \n",
    "        elif Pclass == 2:\n",
    "            return 29\n",
    "        \n",
    "        else:\n",
    "            return 24\n",
    "        \n",
    "    else:\n",
    "        return Age"
   ]
  },
  {
   "cell_type": "code",
   "execution_count": null,
   "metadata": {},
   "outputs": [],
   "source": [
    "df['Age'] = df[['Age','Pclass']].apply(impute_age,axis=1)"
   ]
  },
  {
   "cell_type": "markdown",
   "metadata": {},
   "source": [
    "### Fare feature\n",
    "1 missing value will be filled with the mean of the fare\n"
   ]
  },
  {
   "cell_type": "code",
   "execution_count": null,
   "metadata": {},
   "outputs": [],
   "source": [
    "# fill na value in Fare with the mean\n",
    "df['Fare'].fillna(df['Fare'].mean(),inplace=True)"
   ]
  },
  {
   "cell_type": "markdown",
   "metadata": {},
   "source": [
    "### Drop Cabin and Ticket Column"
   ]
  },
  {
   "cell_type": "code",
   "execution_count": null,
   "metadata": {},
   "outputs": [],
   "source": [
    "df.drop(['Cabin','Ticket'],axis=1,inplace=True)"
   ]
  },
  {
   "cell_type": "code",
   "execution_count": null,
   "metadata": {},
   "outputs": [],
   "source": [
    "### Sex and Embarked features"
   ]
  },
  {
   "cell_type": "code",
   "execution_count": null,
   "metadata": {},
   "outputs": [],
   "source": [
    "# only 2 missing value in Embarked and it is categorical data so I simply drop it\n",
    "df.dropna(inplace=True)"
   ]
  },
  {
   "cell_type": "markdown",
   "metadata": {},
   "source": [
    "### Transformeren"
   ]
  },
  {
   "cell_type": "code",
   "execution_count": null,
   "metadata": {},
   "outputs": [],
   "source": [
    "# transform the categorical data into dummies variables\n",
    "train_sex = pd.get_dummies(df['Sex'],drop_first=True,dtype='int64')\n",
    "train_embark = pd.get_dummies(df['Embarked'],drop_first=True,dtype='int64')\n",
    "\n",
    "\n",
    "# delete the original sex and embarked columns\n",
    "df.drop(['Sex','Embarked'],axis=1,inplace=True)\n",
    "\n",
    "# Update the dataframe\n",
    "df = pd.concat([df,train_sex,train_embark],axis=1)\n",
    "\n",
    "# Drop the orginal column\n",
    "df.drop('Name',axis=1,inplace=True)\n",
    "\n",
    "df.info()\n",
    "\n"
   ]
  },
  {
   "cell_type": "markdown",
   "metadata": {},
   "source": [
    "### Eigen ingeving"
   ]
  },
  {
   "cell_type": "markdown",
   "metadata": {},
   "source": [
    "\n",
    "### Building model\n",
    "\n",
    "We gaan drie modellen gebruiken (Decision Tree, Logistic Regression & Random Forest model) om te voorspellen. Eerst, splitten we de data in train en test set. De voorspellingen van de drie modellen zullen gevalueerd worden en de beste model zullen eruit pikken.\n",
    "\n",
    "Een Decision Tree is een flowchart en kan helpen beslissingen te nemen op basis van eerdere ervaringen/gegevens.\n"
   ]
  },
  {
   "cell_type": "code",
   "execution_count": null,
   "metadata": {},
   "outputs": [],
   "source": [
    "from sklearn.model_selection import train_test_split\n",
    "\n",
    "X = df.drop(['PassengerId','Survived'],axis=1)\n",
    "y = df['Survived']\n",
    "\n",
    "X_train, X_test, y_train, y_test = train_test_split(X, y, test_size=0.3, random_state=101)\n",
    "\n"
   ]
  },
  {
   "cell_type": "code",
   "execution_count": null,
   "metadata": {},
   "outputs": [],
   "source": [
    "from sklearn.tree import DecisionTreeClassifier\n",
    "\n",
    "dtree = DecisionTreeClassifier()\n",
    "dtree.fit(X_train,y_train)\n",
    "\n"
   ]
  },
  {
   "cell_type": "code",
   "execution_count": null,
   "metadata": {},
   "outputs": [],
   "source": [
    "pred_tree = dtree.predict(X_test)"
   ]
  },
  {
   "cell_type": "code",
   "execution_count": null,
   "metadata": {},
   "outputs": [],
   "source": [
    "from sklearn.metrics import accuracy_score,classification_report,confusion_matrix\n",
    "\n",
    "print(accuracy_score(y_test,pred_tree))\n",
    "print('\\n')\n",
    "print(classification_report(y_test,pred_tree))\n",
    "print('\\n')\n",
    "print(confusion_matrix(y_test,pred_tree))\n",
    "\n"
   ]
  },
  {
   "cell_type": "markdown",
   "metadata": {},
   "source": [
    "77% nog niet hele beste scores we proberen het met een ander model:"
   ]
  },
  {
   "cell_type": "code",
   "execution_count": null,
   "metadata": {},
   "outputs": [],
   "source": [
    "from sklearn.ensemble import RandomForestClassifier\n",
    "rfc = RandomForestClassifier()\n",
    "rfc.fit(X_train,y_train)\n",
    "\n",
    "pred_rf = rfc.predict(X_test)\n",
    "\n",
    "print(accuracy_score(y_test,pred_rf))\n",
    "print('\\n')\n",
    "print(classification_report(y_test,pred_rf))\n",
    "print('\\n')\n",
    "print(confusion_matrix(y_test,pred_rf))\n",
    "\n"
   ]
  },
  {
   "cell_type": "code",
   "execution_count": null,
   "metadata": {},
   "outputs": [],
   "source": [
    "### Building model"
   ]
  }
 ],
 "metadata": {
  "kernelspec": {
   "display_name": "Python 3 (ipykernel)",
   "language": "python",
   "name": "python3"
  },
  "language_info": {
   "codemirror_mode": {
    "name": "ipython",
    "version": 3
   },
   "file_extension": ".py",
   "mimetype": "text/x-python",
   "name": "python",
   "nbconvert_exporter": "python",
   "pygments_lexer": "ipython3",
   "version": "3.8.10"
  }
 },
 "nbformat": 4,
 "nbformat_minor": 2
}