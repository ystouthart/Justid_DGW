{
 "cells": [
  {
   "cell_type": "markdown",
   "metadata": {},
   "source": [
    "# DGW module"
   ]
  },
  {
   "cell_type": "markdown",
   "metadata": {},
   "source": [
    "\n",
    "<img src=\"https://www.binnenlandsbestuur.nl/Uploads/2018/2/logo-justid.png\" width=400 height=200/>"
   ]
  },
  {
   "cell_type": "markdown",
   "metadata": {},
   "source": [
    "DGW intro voor Data science\n",
    "\n",
    "In deze cursus gaan we proeven aan het geen wat data science heet. Om te beginnen met programmeren in Python.\n",
    "\n",
    "\n",
    "Het programma waar in je werkt heet een Jupyter notebook. De code is voor geprogrammeerd en kan je aanroepen door je cursor in de cel te zetten en op de uitvoeren knop (playknop) te klikken boven in het menu of toetscombinatie SHIFT+ENTER. Je hoeft dus niet direct zelf iets te programmeren. Gaat er iets fout? Refresh de browser en voer de cellen op chronologische volgorde uit."
   ]
  },
  {
   "cell_type": "markdown",
   "metadata": {},
   "source": [
    "### Een hele, hele kleine overview van Python\n"
   ]
  },
  {
   "cell_type": "markdown",
   "metadata": {},
   "source": [
    "Python is een makkelijke taal om te leren. Python is begin jaren 90 ontworpen en ontwikkeld door de Nederlander Guido van Rossum, destijds verbonden aan het Centrum voor Wiskunde en Informatica in Amsterdam.\n",
    "\n",
    "<img src=\"https://logodownload.org/wp-content/uploads/2019/10/python-logo-0.png\" width=400 height=200/>"
   ]
  },
  {
   "cell_type": "markdown",
   "metadata": {},
   "source": [
    "Om te oefenen gaan we onze eerste tekst printen, dat doen we door de ingebouwde print statement van Python. Daarna gaan we variabelen aanwijzen en aanpassen! Zet je cursor in de cel hier beneden en klik op de playknop. De output komt onder de cel.\n",
    "#### opdracht 1 - print"
   ]
  },
  {
   "cell_type": "code",
   "execution_count": null,
   "metadata": {},
   "outputs": [],
   "source": [
    "print(\"Hello world\")"
   ]
  },
  {
   "cell_type": "markdown",
   "metadata": {},
   "source": [
    "\n",
    "#### opdracht 2 - variabelen"
   ]
  },
  {
   "cell_type": "code",
   "execution_count": null,
   "metadata": {},
   "outputs": [],
   "source": [
    "a = 3\n",
    "b = a + 2\n",
    "print(b) #Wat is de uitkomst van a? Klik nog eens op play om de magie van overschrijven te aanschouwen"
   ]
  },
  {
   "cell_type": "markdown",
   "metadata": {},
   "source": [
    "Python is flexibel we kunnen iedere keer een variabel overschrijven/aanpassen. Hieronder overschrijven we nogmaals variabel a door de string \"Justid!\".\n",
    "#### opdracht 3 - data typen"
   ]
  },
  {
   "cell_type": "code",
   "execution_count": null,
   "metadata": {},
   "outputs": [],
   "source": [
    "a = \"Justid!\"\n",
    "print(\"I Love \" + a)"
   ]
  },
  {
   "cell_type": "markdown",
   "metadata": {},
   "source": [
    "Variabelen aanwijzen doen we in Python met het = teken. Hierboven wijzen we het nummer (of integers zoals Python dat noemt) aan de letter a.\n",
    "\n",
    "Een integer is een datatype. Net als andere programmeertalen definieert Python verschillende datatypen. Denk hierbij aan:\n",
    "\n",
    "strings = \"een willekeurige volgorde van karakters(nummers en cijfers), te herkennen aan de quotes\" integers = 1 floats = 0.4\n",
    "\n",
    "lijst = [\"een verzamleing\", 4,5, 5, \"van verschillende soorten\", \"datatypen\"] \n",
    "\n",
    "boolean = True of False\n",
    "\n",
    "Python overschrijft een variabele wanneer deze al een eerder moment is aangemaakt."
   ]
  },
  {
   "cell_type": "markdown",
   "metadata": {},
   "source": [
    "Wat gebeurt er als we 2 intergers bij elkaar optellen en zie wat er gebeurt als we 2 strings bij elkaar optellen\n",
    "#### opdracht 4"
   ]
  },
  {
   "cell_type": "code",
   "execution_count": null,
   "metadata": {},
   "outputs": [],
   "source": [
    "sum = 5+5\n",
    "concatination = \"5\" + \"5\"\n",
    "string_concatination = \"hallo\" + \"hallo\"\n",
    "\n",
    "print(sum)\n",
    "print(concatination)\n",
    "print(string_concatination)\n"
   ]
  },
  {
   "cell_type": "markdown",
   "metadata": {},
   "source": [
    "Wanneer je twee strings bij elkaar optelt door middel van het plusteken voegt Python ze samen. Zie een beter voorbeeld hierbeneden:\n",
    "#### opdracht 5"
   ]
  },
  {
   "cell_type": "code",
   "execution_count": null,
   "metadata": {},
   "outputs": [],
   "source": [
    "voorstel = \"Hallo mijn naam is \"\n",
    "naam = \"Rick\"\n",
    "\n",
    "print(voorstel + naam) # voer je naam in op de plek van Rick en druk op play"
   ]
  },
  {
   "cell_type": "markdown",
   "metadata": {},
   "source": [
    "In Python hebben we verschillende \"operators\" dit zijn de bekende +, -, : etc. Voor een goed overzicht bekijk deze pagina: https://www.w3schools.com/python/python_operators.asp  "
   ]
  },
  {
   "cell_type": "markdown",
   "metadata": {},
   "source": [
    "Waneer je er klaar voor bent kun je kijken naar wat complexere operators die je veelal zult tegen komen in conditional statements (denk aan if en else). Zo heb je de bekende groter dan > en groter dan of gelijk aan >= maar je hebt ook gelijk aan == of kleiner dan <. Waneer je deze gebruikt krijg je een boolean terug: True or False\n",
    "#### opdracht 6"
   ]
  },
  {
   "cell_type": "code",
   "execution_count": null,
   "metadata": {},
   "outputs": [],
   "source": [
    "5 > 6"
   ]
  },
  {
   "cell_type": "code",
   "execution_count": null,
   "metadata": {},
   "outputs": [],
   "source": [
    "77 == 77"
   ]
  },
  {
   "cell_type": "markdown",
   "metadata": {},
   "source": [
    "Zie onderstaande voorbeeld: pas de 5.5 van variabel je_cijfer aan naar een lager cijfer en zie wat de uitkomst is:"
   ]
  },
  {
   "cell_type": "code",
   "execution_count": null,
   "metadata": {},
   "outputs": [],
   "source": [
    "je_cijfer = 5.5\n",
    "\n",
    "if je_cijfer >= 5.5:\n",
    "    print(\"Gefeliciteerd je bent geslaagd\")\n",
    "\n",
    "else:\n",
    "    print(\"Helaas je moet herkansen!\")"
   ]
  },
  {
   "cell_type": "markdown",
   "metadata": {},
   "source": [
    "### Functies \n",
    "\n",
    "Bovenstaande kunnen we ook mooi maken door hem in een functie te zetten. Zo kunnen we de functie aan roepen waar en wanneer we maar willen. Python definieert een functie door: def de_naam_van_je_functie():\n",
    "In de () kunnen we een variable zetten zodat we die kunnen gebruiken in de functie. In bovenstaande cel zou bijvoorbeeld cijfer een goeie variabel zijn om te geven aan de functie. \n",
    "#### opdracht 7"
   ]
  },
  {
   "cell_type": "code",
   "execution_count": null,
   "metadata": {},
   "outputs": [],
   "source": [
    "def geslaagd(cijfer): # we noemen de functie geslaagd en geven de functie een variabele, deze variabele heet binnen!!! (niet buiten) de functie cijfer.\n",
    "\n",
    "  if cijfer >= 5.5:\n",
    "    print(\"Gefeliciteerd je bent geslaagd\")\n",
    "    \n",
    "  else:\n",
    "    print(\"Helaas je moet herkansen!\")"
   ]
  },
  {
   "cell_type": "markdown",
   "metadata": {},
   "source": [
    "Hieronder hoeven we alleen de naam van de functie te geven en het cijfer die we willen invoeren:\n",
    "#### opdracht 8"
   ]
  },
  {
   "cell_type": "code",
   "execution_count": null,
   "metadata": {},
   "outputs": [],
   "source": [
    "geslaagd(9)"
   ]
  },
  {
   "cell_type": "markdown",
   "metadata": {},
   "source": [
    "### Loop"
   ]
  },
  {
   "cell_type": "markdown",
   "metadata": {},
   "source": [
    "Stel we hebben een klas met kinderen die allemaal hun cijfers willen. Dan kunnen we voor iedere cijfer de functie aanroepen, maar we kunnen ook een loop gebruiken. In Python hebben verschillende soorten loops, maar de bekendste is de for loop. Met een for loop itereer je door \"iets\" heen. Dit kan een string zijn of, zoals in ons geval, een lijst met cijfers. Hieronder een voorbeeld van hoe Python door een lijst[1,2,3,4,5] heen itereert.\n",
    "\n",
    "Python werkt met indentatie en is heel spatie gevoelig. Omdat de print statement iets naar rechts staat (met 4 spaties). Ziet Python dit als onderdeel van de loop en zal het dus iedere keer aanroepen.\n",
    "\n",
    "De i in dit geval is een manier om een variabel aan te wijzen en overschrijven. De eerste iteratie is i = 1, de tweede i = 2 etc. we kunnen i ook anders noemen als we willen. Zoals ik doe in de volgende cel.\n",
    "#### opdracht 9"
   ]
  },
  {
   "cell_type": "code",
   "execution_count": null,
   "metadata": {},
   "outputs": [],
   "source": [
    "for cijfer in [1,2,3,4,5]: \n",
    "    print(cijfer)"
   ]
  },
  {
   "cell_type": "code",
   "execution_count": null,
   "metadata": {},
   "outputs": [],
   "source": [
    "cijfer_lijst = [4, 7, 8, 3, 2.5, 5.5]\n",
    "for cijfer in cijfer_lijst:\n",
    "    print(\"je cijfer is:\", cijfer)\n",
    "    geslaagd(cijfer)\n"
   ]
  },
  {
   "cell_type": "markdown",
   "metadata": {},
   "source": [
    "## Basis statistiek"
   ]
  },
  {
   "cell_type": "markdown",
   "metadata": {},
   "source": [
    "In dit hoofdstuk gaan we simpele statistiek verkennen door het gebruik van Python. Python komt met verschillende libraries die ons functies out of de box geven. Op die manier hoeven we niet het wiel opnieuw uit te vinden. Libraries importeren doen we door de ingebouwde import functie. Hieronder importeren we een bekende library die bekend staat om z'n wiskundige formules. Met as np noem ik hem voor de makkelijkheid even np.\n",
    "#### opdracht 10"
   ]
  },
  {
   "cell_type": "code",
   "execution_count": null,
   "metadata": {},
   "outputs": [],
   "source": [
    " import numpy"
   ]
  },
  {
   "cell_type": "markdown",
   "metadata": {},
   "source": [
    "### Mean, Median, and Mode"
   ]
  },
  {
   "cell_type": "markdown",
   "metadata": {},
   "source": [
    "We maken een lijst aan en gaan kijken of we het gemiddelde, mediaan en modus kunnen vinden. Laten we onder een lijst met snelheden maken.\n",
    "#### opdracht 11"
   ]
  },
  {
   "cell_type": "code",
   "execution_count": null,
   "metadata": {},
   "outputs": [],
   "source": [
    "snelheden = [99,86,87,88,111,86,103,87,94,78,77,85,86] "
   ]
  },
  {
   "cell_type": "markdown",
   "metadata": {},
   "source": [
    "We gebruiken de numpy library door np.(de functie die we willen gebruiken). Dus de documentatie van Numpy zegt bijvoorbeeld dat er een mean en modus functie is: https://numpy.org/doc/1.21/reference/generated/numpy.mean.html?highlight=mean. We geven de lijst aan de functie en printen de variabele x\n"
   ]
  },
  {
   "cell_type": "code",
   "execution_count": null,
   "metadata": {},
   "outputs": [],
   "source": [
    "x = numpy.mean(snelheden)\n",
    "\n",
    "print(\"de gemiddelde snelheid is\", x) "
   ]
  },
  {
   "cell_type": "markdown",
   "metadata": {},
   "source": [
    "De mediaan zijn de middelste getallen in de lijst. Als de lijst even is pakt de functie de helft\n",
    "#### opdracht 12"
   ]
  },
  {
   "cell_type": "code",
   "execution_count": null,
   "metadata": {},
   "outputs": [],
   "source": [
    "speed = [99,86,87,88,111,86,103,87,94,78,77,85,86] \n",
    "x = numpy.median(speed)\n",
    "\n",
    "print(\"de mediaan snelheid is\", x) "
   ]
  },
  {
   "cell_type": "markdown",
   "metadata": {},
   "source": [
    "De numpy library heeft geen mode, daarvoor importeren we een andere library. De mode geeft het meestvoorkomende nummer weer. In het Nederlands beter bekend als modaal.\n",
    "#### opdracht 13"
   ]
  },
  {
   "cell_type": "code",
   "execution_count": null,
   "metadata": {},
   "outputs": [],
   "source": [
    "import statistics \n",
    "\n",
    "speed = [99,86,87,88,111,86,103,87,94,78,77,85,86]\n",
    "\n",
    "x = statistics.mode(speed)\n",
    "\n",
    "print(\"de mode is\", x)"
   ]
  },
  {
   "cell_type": "markdown",
   "metadata": {},
   "source": [
    "## Titanic dataset"
   ]
  },
  {
   "cell_type": "markdown",
   "metadata": {},
   "source": [
    "In het volgende hoofstuk kijken we naar *beslissingsbomen*, ons type classificatiemodel dat dieper ingaat op het gebied van machine learning. In de oefening van vandaag gebruiken we `scikit-learn'.\n",
    "\n",
    "\n",
    "***\n",
    "![alt text](https://upload.wikimedia.org/wikipedia/commons/thumb/d/db/Titanic-Cobh-Harbour-1912.JPG/330px-Titanic-Cobh-Harbour-1912.JPG)\n",
    "    \n",
    "We illustreren hoe beslissingsbomen werken met behulp van de Titanic-survivaldataset die beschikbaar is op [Kaggle](https://www.kaggle.com/c/titanic/data). We zullen kijken naar een verscheidenheid aan variabelen om ons te helpen voorspellen of een bepaalde passagier op de Titanic kon overleven. Er is veel te vinden op internet (inclusief [hier](https://triangleinequality.wordpress.com/2013/09/08/basic-feature-engineering-with-the-titanic-data/)) over deze dataset, omdat het populair is onder degenen die net op de hoogte zijn van classificatiemodellen voor machine learning.\n",
    "***\n",
    "\n"
   ]
  },
  {
   "cell_type": "markdown",
   "metadata": {},
   "source": [
    "### Data legenda\n",
    "\n",
    "|Variable|Definition|Key|\n",
    "| --- | --- |:---|\n",
    "| survival | Survival | 0 = No, 1 = Yes |\n",
    "| pclass\t| Ticket class\t| 1 = 1st, 2 = 2nd, 3 = 3rd |\n",
    "| sex\t| Sex | male female | \t\n",
    "| Age | Age in years | 0.0 - 100.0 | \t\n",
    "| sibsp\t| # of siblings / spouses aboard the Titanic | 0-100\t| \n",
    "| parch\t| # of parents / children aboard the Titanic | 0-100 | \n",
    "| ticket | Ticket number | example: A/5 21171 | \n",
    "| fare\t| Passenger fare | 0.000-100.0000\t| \n",
    "| cabin\t| Cabin number| example: C85\t| \n",
    "| embarked | Port of Embarkation\t| C = Cherbourg (France), Q = Queenstown (Ireland), S = Southampton (England) | "
   ]
  },
  {
   "cell_type": "code",
   "execution_count": null,
   "metadata": {},
   "outputs": [],
   "source": [
    "# %pip install --user numpy\n",
    "# %pip install  pandas\n",
    "# %pip install --upgrade pip --user\n",
    "# %pip install wheel --user\n",
    "# %pip install sklearn --user\n",
    "# %pip install pandas --user\n",
    "# %pip install matplotlib --user\n",
    "# %pip install seaborn --user\n"
   ]
  },
  {
   "cell_type": "markdown",
   "metadata": {},
   "source": [
    "#### opdracht 14"
   ]
  },
  {
   "cell_type": "code",
   "execution_count": null,
   "metadata": {},
   "outputs": [],
   "source": [
    "import numpy as np\n",
    "import pandas as pd\n",
    "import warnings\n",
    "import matplotlib.pyplot as plt\n",
    "from sklearn.tree import DecisionTreeClassifier\n",
    "from sklearn.linear_model import LogisticRegression\n",
    "from sklearn.metrics import accuracy_score, recall_score, precision_score, confusion_matrix\n",
    "from sklearn.model_selection import KFold, cross_val_score\n",
    "import seaborn as sns\n",
    "\n",
    "%matplotlib inline\n",
    "warnings.filterwarnings(\"ignore\")"
   ]
  },
  {
   "cell_type": "markdown",
   "metadata": {},
   "source": [
    "#### opdracht 15"
   ]
  },
  {
   "cell_type": "code",
   "execution_count": null,
   "metadata": {},
   "outputs": [],
   "source": [
    "df = pd.read_csv('https://grantmlong.com/data/titanic.csv')"
   ]
  },
  {
   "cell_type": "code",
   "execution_count": null,
   "metadata": {},
   "outputs": [],
   "source": [
    "df.head(10)"
   ]
  },
  {
   "cell_type": "code",
   "execution_count": null,
   "metadata": {},
   "outputs": [],
   "source": [
    "df.info()"
   ]
  },
  {
   "cell_type": "markdown",
   "metadata": {},
   "source": [
    "## Exploreren van de data\n",
    "#### opdracht 15"
   ]
  },
  {
   "cell_type": "code",
   "execution_count": null,
   "metadata": {},
   "outputs": [],
   "source": [
    "df.describe()"
   ]
  },
  {
   "cell_type": "code",
   "execution_count": null,
   "metadata": {},
   "outputs": [],
   "source": [
    "df.describe(include=['O'])"
   ]
  },
  {
   "cell_type": "code",
   "execution_count": null,
   "metadata": {},
   "outputs": [],
   "source": [
    "pd.isnull(df).sum()"
   ]
  },
  {
   "cell_type": "markdown",
   "metadata": {},
   "source": [
    "#### opdracht 16\n",
    "\n",
    "Over de data\n",
    "\n",
    "    Het aantal passagiers zijn 891 wat ongeveer 40% is van het daadwerkelijke nummer aan boord van de Titanic (2,224).\n",
    "    We missen ongeveer 20% data in Age. We doen de aanname dat leeftijd waarschijnlijk belangrijk zijn\n",
    "    We missen ongeveer 80% in de Cabin column en misschien droppen we deze column.\n",
    "    Er zijn zijn 2 missende data in Embarked\n",
    "    Ticket laten we misschien vallen aangezien we over 200 dubbele hebben en Ticket informatiie is waarschijnlijk niet hoog gecoralleerd aan survival\n",
    "    Name niet meteen gerelated aan survival dus we kunnen het laten vallen.\n",
    "\n"
   ]
  },
  {
   "cell_type": "markdown",
   "metadata": {},
   "source": [
    "\n",
    "\n",
    "Aannames\n",
    "\n",
    "\n",
    "Om nauwkeurig te kunnen voorspellen, moeten we kenmerken onderzoeken die correleren met Survival. Aangenomen wordt dat:\n",
    "\n",
    "    SEX: Vrouwen (geslacht = vrouw) hebben meer kans om te overleven.\n",
    "    SibSp/Parch: Mensen die alleen reizen, hebben meer kans om te overleven.\n",
    "    Age: Jonge kinderen hebben meer kans om te overleven.\n",
    "    Pclass: De passagiers uit de hogere klasse (Pclass=1) hebben meer kans om te overleven.\n",
    "#### opdracht 17"
   ]
  },
  {
   "cell_type": "code",
   "execution_count": null,
   "metadata": {},
   "outputs": [],
   "source": [
    "import  seaborn as sns\n",
    "g = sns.FacetGrid(df, col='Survived',row='Pclass')\n",
    "g.map(plt.hist, 'Age', bins=30)"
   ]
  },
  {
   "cell_type": "code",
   "execution_count": null,
   "metadata": {},
   "outputs": [],
   "source": [
    "sns.barplot(x=\"Pclass\", y=\"Survived\",data=df,palette='rainbow')\n",
    "#print percentages of classes that survive\n",
    "print(\"Percentage van Class 1 die hebben survived:\", df[\"Survived\"][df[\"Pclass\"] == 1].value_counts(normalize = True)[1]*100)\n",
    "print(\"Percentage van Class 2 die hebben survived:\", df[\"Survived\"][df[\"Pclass\"] == 2].value_counts(normalize = True)[1]*100)\n",
    "print(\"Percentage van Class 3 die hebben survived:\", df[\"Survived\"][df[\"Pclass\"] == 3].value_counts(normalize = True)[1]*100)"
   ]
  },
  {
   "cell_type": "markdown",
   "metadata": {},
   "source": [
    "#### opdracht 18"
   ]
  },
  {
   "cell_type": "code",
   "execution_count": null,
   "metadata": {},
   "outputs": [],
   "source": [
    "sns.countplot(x='Survived',hue='Sex',data=df,palette='rainbow')\n",
    "#print percentages of females vs. males that survive\n",
    "print(\"Percentages vrouwen survived:\", df[\"Survived\"][df[\"Sex\"] == 'female'].value_counts(normalize = True)[1]*100)\n",
    "\n",
    "print(\"Percentages mannen survived:\", df[\"Survived\"][df[\"Sex\"] == 'male'].value_counts(normalize = True)[1]*100)\n",
    "\n"
   ]
  },
  {
   "cell_type": "markdown",
   "metadata": {},
   "source": [
    "#### opdracht 19"
   ]
  },
  {
   "cell_type": "code",
   "execution_count": null,
   "metadata": {},
   "outputs": [],
   "source": [
    "df[['SibSp','Survived']].groupby(by='SibSp').mean().sort_values(by='Survived',ascending=False)"
   ]
  },
  {
   "cell_type": "markdown",
   "metadata": {},
   "source": [
    "(SibSp=1) hebben de meeste kans om te overleven (53.6%)\n"
   ]
  },
  {
   "cell_type": "code",
   "execution_count": null,
   "metadata": {},
   "outputs": [],
   "source": [
    "df[['Parch','Survived']].groupby(by='Parch').mean().sort_values(by='Survived',ascending=False)"
   ]
  },
  {
   "cell_type": "markdown",
   "metadata": {},
   "source": [
    "\n",
    "(Parch=3) hebben de meeste kans om te overleven (60%)\n",
    "\n",
    "Reactie op eerdere veronderstellingen\n",
    "\n",
    "    Sex: Vrouwen (geslacht = vrouw) hebben meer kans om te overleven.\n",
    "\n",
    "    Zeer goed mogelijk\n",
    "\n",
    "    SibSp/Parch: mensen die alleen reizen, hebben meer kans om te overleven\n",
    "\n",
    "    Niet echt. (SibSp=1) & (Parch=3) hebben de meeste kans om te overleven\n",
    "\n",
    "    Age: Jonge kinderen hebben meer kans om te overleven.\n",
    "\n",
    "    Mogelijk. Jonge kinderen in klas 1 en 2 zijn zelden gesneuveld.\n",
    "\n",
    "    Pclass: De passagiers uit de hogere klasse (Pclass=1) hebben meer kans om te overleven\n",
    "\n",
    "    Het aandeel overlevenden in klasse 1 & 2 is groter dan dat van klasse 3\n",
    "\n",
    "Geslacht, Pclass, Age-kenmerken worden gecorreleerd aan overlevingen.\n"
   ]
  },
  {
   "cell_type": "markdown",
   "metadata": {},
   "source": [
    "## Gegevens opschonen\n",
    "\n",
    "    Ontbrekende waarde zou worden ingevuld door toerekening\n",
    "    De kolommen Sex en Embarked worden omgezet in dummies-variabelen\n",
    "    Ticket en cabine worden gedropt\n",
    "\n",
    "### Leeftijdsfunctie\n",
    "\n",
    "ontbrekende waarden worden opgevuld door de mediaan van Leeftijd, gegroepeerd op verschillende klassen\n",
    "#### opdracht 20"
   ]
  },
  {
   "cell_type": "code",
   "execution_count": null,
   "metadata": {},
   "outputs": [],
   "source": [
    "# kijken naar de mediaan Age groep per klasse\n",
    "df.groupby('Pclass')['Age'].describe()"
   ]
  },
  {
   "cell_type": "code",
   "execution_count": null,
   "metadata": {},
   "outputs": [],
   "source": [
    "# impute mediaan van Age gebasseerd op Pclass\n",
    "def impute_age(cols):\n",
    "    Age = cols[0]\n",
    "    Pclass = cols[1]\n",
    "    \n",
    "    if pd.isnull(Age):\n",
    "        \n",
    "        if Pclass == 1:\n",
    "            return 37\n",
    "        \n",
    "        elif Pclass == 2:\n",
    "            return 29\n",
    "        \n",
    "        else:\n",
    "            return 24\n",
    "        \n",
    "    else:\n",
    "        return Age"
   ]
  },
  {
   "cell_type": "code",
   "execution_count": null,
   "metadata": {},
   "outputs": [],
   "source": [
    "df['Age'] = df[['Age','Pclass']].apply(impute_age,axis=1)"
   ]
  },
  {
   "cell_type": "markdown",
   "metadata": {},
   "source": [
    "### Fare feature\n",
    "1 missende waarde in Fare wordt opgevuld met de mediaan van de kolom Fare\n",
    "#### opdracht 21"
   ]
  },
  {
   "cell_type": "code",
   "execution_count": null,
   "metadata": {},
   "outputs": [],
   "source": [
    "# Vul na waarde Fare met de mediaan\n",
    "df['Fare'].fillna(df['Fare'].median(),inplace=True)"
   ]
  },
  {
   "cell_type": "markdown",
   "metadata": {},
   "source": [
    "### Laat Cabin and Ticket kolom vallen"
   ]
  },
  {
   "cell_type": "markdown",
   "metadata": {},
   "source": [
    "#### opdracht 21"
   ]
  },
  {
   "cell_type": "code",
   "execution_count": null,
   "metadata": {},
   "outputs": [],
   "source": [
    "df.drop(['Cabin','Ticket'],axis=1,inplace=True)"
   ]
  },
  {
   "cell_type": "markdown",
   "metadata": {},
   "source": [
    "### Sex and Embarked kenmerken\n",
    "#### opdracht 22"
   ]
  },
  {
   "cell_type": "code",
   "execution_count": null,
   "metadata": {},
   "outputs": [],
   "source": [
    "# 2 missende waardes in Embarked en het is categorisch dus we laten het vallen\n",
    "df.dropna(inplace=True)"
   ]
  },
  {
   "cell_type": "code",
   "execution_count": null,
   "metadata": {},
   "outputs": [],
   "source": [
    "df.head()"
   ]
  },
  {
   "cell_type": "markdown",
   "metadata": {},
   "source": [
    "### Transformeren\n",
    "#### opdracht 23"
   ]
  },
  {
   "cell_type": "code",
   "execution_count": null,
   "metadata": {},
   "outputs": [],
   "source": [
    "# transform de categorische data in de dummies variabelen\n",
    "train_sex = pd.get_dummies(df['Sex'],drop_first=True,dtype='int64')\n",
    "train_embark = pd.get_dummies(df['Embarked'],drop_first=True,dtype='int64')\n",
    "\n",
    "\n",
    "# delete de originele sex en embarked columns\n",
    "df.drop(['Sex','Embarked'],axis=1,inplace=True)\n",
    "\n",
    "# Update de dataframe\n",
    "df = pd.concat([df,train_sex,train_embark],axis=1)\n",
    "\n",
    "_name = df.copy()\n",
    "\n"
   ]
  },
  {
   "cell_type": "code",
   "execution_count": null,
   "metadata": {},
   "outputs": [],
   "source": [
    "# Drop the orginal column\n",
    "# df.drop('Name',axis=1,inplace=True)\n",
    "\n",
    "df.info()\n",
    "df.head(5)"
   ]
  },
  {
   "cell_type": "markdown",
   "metadata": {},
   "source": [
    "\n",
    "### Bouwen van een model\n",
    "\n",
    "We gaan drie modellen gebruiken (Decision Tree, Logistic Regression & Random Forest model) om te voorspellen. Eerst, splitten we de data in train en test set. De voorspellingen van de drie modellen zullen gevalueerd worden en de beste model zullen eruit pikken.\n",
    "\n",
    "Een Decision Tree is een flowchart en kan helpen beslissingen te nemen op basis van eerdere ervaringen/gegevens.\n",
    "#### opdracht 23"
   ]
  },
  {
   "cell_type": "code",
   "execution_count": null,
   "metadata": {},
   "outputs": [],
   "source": [
    "from sklearn.model_selection import train_test_split\n",
    "\n",
    "X = df.drop(['PassengerId','Survived'],axis=1)\n",
    "y = df['Survived']\n",
    "\n",
    "X_train, X_test, y_train, y_test = train_test_split(X, y, test_size=0.2, random_state=101)\n",
    "\n"
   ]
  },
  {
   "cell_type": "code",
   "execution_count": null,
   "metadata": {},
   "outputs": [],
   "source": [
    "from sklearn.tree import DecisionTreeClassifier\n",
    "\n",
    "dtree = DecisionTreeClassifier()\n",
    "dtree.fit(X_train,y_train)\n",
    "\n"
   ]
  },
  {
   "cell_type": "markdown",
   "metadata": {},
   "source": [
    "#### opdracht 24"
   ]
  },
  {
   "cell_type": "code",
   "execution_count": null,
   "metadata": {},
   "outputs": [],
   "source": [
    "pred_tree = dtree.predict(X_test)"
   ]
  },
  {
   "cell_type": "code",
   "execution_count": null,
   "metadata": {},
   "outputs": [],
   "source": [
    "from sklearn.metrics import accuracy_score,classification_report,confusion_matrix\n",
    "\n",
    "print(accuracy_score(y_test,pred_tree))\n",
    "print('\\n')\n",
    "print(classification_report(y_test,pred_tree))\n",
    "print('\\n')\n",
    "print(confusion_matrix(y_test,pred_tree))\n",
    "\n"
   ]
  },
  {
   "cell_type": "markdown",
   "metadata": {},
   "source": [
    "79% nog niet hele beste scores we proberen het met een ander model:\n",
    "#### opdracht 25"
   ]
  },
  {
   "cell_type": "markdown",
   "metadata": {},
   "source": [
    "Naam kan worden omgezet in een nieuwe functie door hun titels te extraheren\n"
   ]
  },
  {
   "cell_type": "code",
   "execution_count": null,
   "metadata": {},
   "outputs": [],
   "source": [
    "from sklearn.ensemble import RandomForestClassifier\n",
    "rfc = RandomForestClassifier()\n",
    "rfc.fit(X_train,y_train)\n",
    "\n",
    "pred_rf = rfc.predict(X_test)\n",
    "\n",
    "print(accuracy_score(y_test,pred_rf))\n",
    "print('\\n')\n",
    "print(classification_report(y_test,pred_rf))\n",
    "print('\\n')\n",
    "print(confusion_matrix(y_test,pred_rf))\n",
    "\n"
   ]
  },
  {
   "cell_type": "markdown",
   "metadata": {},
   "source": [
    "We behalen hier 82% accuracy. We kijken verder naar precision en recall. Dit houdt in dat we kijken naar of iemand terecht/onterecht is geclassificeerd. F1 is precision/recall"
   ]
  },
  {
   "cell_type": "markdown",
   "metadata": {},
   "source": [
    "## Zou ik de Titanic overleven?"
   ]
  },
  {
   "cell_type": "markdown",
   "metadata": {},
   "source": [
    "Vul tussen de [] je eigen gevens in: \n",
    "\n",
    "Pclass : welke klasse je had willen reizen\n",
    "Age : je leeftijd\n",
    "SibSP : aantal kinderen\n",
    "Parch : aantal ouder (als je die mee wilt nemen)\n",
    "Male: 1 voor ja , 0 voor nee\n",
    "Q : 1 voor vertrek van Queenstown, 0 niet\n",
    "s : 1 voor vertrek van Southhampton , 0 voor vertrek Cherbourg."
   ]
  },
  {
   "cell_type": "code",
   "execution_count": null,
   "metadata": {},
   "outputs": [],
   "source": [
    "eigen_gegevens = {\"Pclass\":[3], \"Age\":[28], \"SibSp\":[0], \"Parch\":[0], \"Fare\":[15], \"male\":[1] ,\"Q\":[0], \"S\":[1]}"
   ]
  },
  {
   "cell_type": "markdown",
   "metadata": {},
   "source": [
    "Hieronder 0? Dan zal je het niet overleven, 1 dan wel!!!"
   ]
  },
  {
   "cell_type": "code",
   "execution_count": null,
   "metadata": {},
   "outputs": [],
   "source": [
    "rfc.predict(pd.DataFrame.from_dict(eigen_gegevens))"
   ]
  },
  {
   "cell_type": "code",
   "execution_count": null,
   "metadata": {},
   "outputs": [],
   "source": []
  },
  {
   "cell_type": "code",
   "execution_count": null,
   "metadata": {},
   "outputs": [],
   "source": []
  },
  {
   "cell_type": "code",
   "execution_count": null,
   "metadata": {},
   "outputs": [],
   "source": []
  },
  {
   "cell_type": "code",
   "execution_count": null,
   "metadata": {},
   "outputs": [],
   "source": []
  },
  {
   "cell_type": "code",
   "execution_count": null,
   "metadata": {},
   "outputs": [],
   "source": []
  },
  {
   "cell_type": "markdown",
   "metadata": {},
   "source": [
    "# Eigen ingeving"
   ]
  },
  {
   "cell_type": "code",
   "execution_count": null,
   "metadata": {},
   "outputs": [],
   "source": [
    "_name.head()"
   ]
  },
  {
   "cell_type": "code",
   "execution_count": null,
   "metadata": {},
   "outputs": [],
   "source": [
    "\n",
    "dataset =_name\n",
    "#extract a title for each Name in the train and test datasets\n",
    "\n",
    "dataset['Title'] = dataset.Name.str.extract(' ([A-Za-z]+)\\.', expand=False)\n",
    "\n",
    "pd.crosstab(dataset['Title'], dataset['male'])"
   ]
  },
  {
   "cell_type": "code",
   "execution_count": null,
   "metadata": {},
   "outputs": [],
   "source": [
    "dataset['Title'] = dataset['Title'].replace(['Lady', 'Countess','Capt', 'Col','Don', 'Dr', 'Major', 'Rev', 'Sir', 'Jonkheer', 'Dona'], 'Rare')\n",
    "\n",
    "dataset['Title'] = dataset['Title'].replace('Mlle', 'Miss')\n",
    "dataset['Title'] = dataset['Title'].replace('Ms', 'Miss')\n",
    "dataset['Title'] = dataset['Title'].replace('Mme', 'Mrs')\n",
    "\n",
    "_name[['Title', 'Survived']].groupby(['Title'], as_index=False).mean()"
   ]
  },
  {
   "cell_type": "code",
   "execution_count": null,
   "metadata": {},
   "outputs": [],
   "source": [
    "title_mapping = {\"Mr\": 1, \"Miss\": 2, \"Mrs\": 3, \"Master\": 4, \"Rare\": 5}\n",
    "dataset['Title'] = dataset['Title'].map(title_mapping)\n",
    "dataset['Title'] = dataset['Title'].fillna(0)"
   ]
  },
  {
   "cell_type": "code",
   "execution_count": null,
   "metadata": {},
   "outputs": [],
   "source": [
    "# Drop the orginele column\n",
    "dataset.drop('Name',axis=1,inplace=True)\n"
   ]
  },
  {
   "cell_type": "code",
   "execution_count": null,
   "metadata": {},
   "outputs": [],
   "source": [
    "dataset.head()"
   ]
  },
  {
   "cell_type": "code",
   "execution_count": null,
   "metadata": {},
   "outputs": [],
   "source": [
    "X_train, X_test, y_train, y_test = train_test_split(X, y, test_size=0.2, random_state=101)\n",
    "rfc_name = RandomForestClassifier()\n",
    "rfc_name.fit(X_train,y_train)\n",
    "\n",
    "pred_rf_name = rfc_name.predict(X_test)\n",
    "\n",
    "print(accuracy_score(y_test,pred_rf_name))\n",
    "print('\\n')\n",
    "print(classification_report(y_test,pred_rf_name))\n",
    "print('\\n')\n",
    "print(confusion_matrix(y_test,pred_rf_name))\n"
   ]
  },
  {
   "cell_type": "code",
   "execution_count": null,
   "metadata": {},
   "outputs": [],
   "source": []
  }
 ],
 "metadata": {
  "kernelspec": {
   "display_name": "Python 3 (ipykernel)",
   "language": "python",
   "name": "python3"
  },
  "language_info": {
   "codemirror_mode": {
    "name": "ipython",
    "version": 3
   },
   "file_extension": ".py",
   "mimetype": "text/x-python",
   "name": "python",
   "nbconvert_exporter": "python",
   "pygments_lexer": "ipython3",
   "version": "3.8.10"
  }
 },
 "nbformat": 4,
 "nbformat_minor": 2
}